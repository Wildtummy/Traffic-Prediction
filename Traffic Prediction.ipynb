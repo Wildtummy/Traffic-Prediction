{
  "nbformat": 4,
  "nbformat_minor": 0,
  "metadata": {
    "colab": {
      "provenance": []
    },
    "kernelspec": {
      "name": "python3",
      "display_name": "Python 3"
    },
    "language_info": {
      "name": "python"
    }
  },
  "cells": [
    {
      "cell_type": "markdown",
      "source": [
        "**Traffic Prediction using graph Neural Networks**"
      ],
      "metadata": {
        "id": "ejr99FeVz6oo"
      }
    },
    {
      "cell_type": "code",
      "execution_count": null,
      "metadata": {
        "id": "CvzytdPihr7T",
        "colab": {
          "base_uri": "https://localhost:8080/"
        },
        "outputId": "17b2e31f-c659-4d49-ccb8-68516b3d646f"
      },
      "outputs": [
        {
          "output_type": "stream",
          "name": "stdout",
          "text": [
            "1.11.0+cu113\n",
            "Looking in links: https://data.pyg.org/whl/torch-1.11.0+cu113.html\n",
            "Collecting torch-scatter\n",
            "  Downloading https://data.pyg.org/whl/torch-1.11.0%2Bcu113/torch_scatter-2.0.9-cp37-cp37m-linux_x86_64.whl (7.9 MB)\n",
            "\u001b[K     |████████████████████████████████| 7.9 MB 13.4 MB/s \n",
            "\u001b[?25hCollecting torch-sparse\n",
            "  Downloading https://data.pyg.org/whl/torch-1.11.0%2Bcu113/torch_sparse-0.6.13-cp37-cp37m-linux_x86_64.whl (3.5 MB)\n",
            "\u001b[K     |████████████████████████████████| 3.5 MB 49.5 MB/s \n",
            "\u001b[?25hCollecting torch-geometric\n",
            "  Downloading torch_geometric-2.0.4.tar.gz (407 kB)\n",
            "\u001b[K     |████████████████████████████████| 407 kB 14.4 MB/s \n",
            "\u001b[?25hRequirement already satisfied: scipy in /usr/local/lib/python3.7/dist-packages (from torch-sparse) (1.4.1)\n",
            "Requirement already satisfied: tqdm in /usr/local/lib/python3.7/dist-packages (from torch-geometric) (4.64.0)\n",
            "Requirement already satisfied: numpy in /usr/local/lib/python3.7/dist-packages (from torch-geometric) (1.21.6)\n",
            "Requirement already satisfied: pandas in /usr/local/lib/python3.7/dist-packages (from torch-geometric) (1.3.5)\n",
            "Requirement already satisfied: jinja2 in /usr/local/lib/python3.7/dist-packages (from torch-geometric) (2.11.3)\n",
            "Requirement already satisfied: requests in /usr/local/lib/python3.7/dist-packages (from torch-geometric) (2.23.0)\n",
            "Requirement already satisfied: pyparsing in /usr/local/lib/python3.7/dist-packages (from torch-geometric) (3.0.8)\n",
            "Requirement already satisfied: scikit-learn in /usr/local/lib/python3.7/dist-packages (from torch-geometric) (1.0.2)\n",
            "Requirement already satisfied: MarkupSafe>=0.23 in /usr/local/lib/python3.7/dist-packages (from jinja2->torch-geometric) (2.0.1)\n",
            "Requirement already satisfied: python-dateutil>=2.7.3 in /usr/local/lib/python3.7/dist-packages (from pandas->torch-geometric) (2.8.2)\n",
            "Requirement already satisfied: pytz>=2017.3 in /usr/local/lib/python3.7/dist-packages (from pandas->torch-geometric) (2022.1)\n",
            "Requirement already satisfied: six>=1.5 in /usr/local/lib/python3.7/dist-packages (from python-dateutil>=2.7.3->pandas->torch-geometric) (1.15.0)\n",
            "Requirement already satisfied: urllib3!=1.25.0,!=1.25.1,<1.26,>=1.21.1 in /usr/local/lib/python3.7/dist-packages (from requests->torch-geometric) (1.24.3)\n",
            "Requirement already satisfied: certifi>=2017.4.17 in /usr/local/lib/python3.7/dist-packages (from requests->torch-geometric) (2021.10.8)\n",
            "Requirement already satisfied: chardet<4,>=3.0.2 in /usr/local/lib/python3.7/dist-packages (from requests->torch-geometric) (3.0.4)\n",
            "Requirement already satisfied: idna<3,>=2.5 in /usr/local/lib/python3.7/dist-packages (from requests->torch-geometric) (2.10)\n",
            "Requirement already satisfied: threadpoolctl>=2.0.0 in /usr/local/lib/python3.7/dist-packages (from scikit-learn->torch-geometric) (3.1.0)\n",
            "Requirement already satisfied: joblib>=0.11 in /usr/local/lib/python3.7/dist-packages (from scikit-learn->torch-geometric) (1.1.0)\n",
            "Building wheels for collected packages: torch-geometric\n",
            "  Building wheel for torch-geometric (setup.py) ... \u001b[?25l\u001b[?25hdone\n",
            "  Created wheel for torch-geometric: filename=torch_geometric-2.0.4-py3-none-any.whl size=616603 sha256=007e88393a5b705574f1c77671b28731a0a79ce012474672e1d18ccd7a8cde06\n",
            "  Stored in directory: /root/.cache/pip/wheels/18/a6/a4/ca18c3051fcead866fe7b85700ee2240d883562a1bc70ce421\n",
            "Successfully built torch-geometric\n",
            "Installing collected packages: torch-sparse, torch-scatter, torch-geometric\n",
            "Successfully installed torch-geometric-2.0.4 torch-scatter-2.0.9 torch-sparse-0.6.13\n",
            "Collecting torch-geometric-temporal\n",
            "  Downloading torch_geometric_temporal-0.52.0.tar.gz (48 kB)\n",
            "\u001b[K     |████████████████████████████████| 48 kB 3.9 MB/s \n",
            "\u001b[?25hRequirement already satisfied: decorator==4.4.2 in /usr/local/lib/python3.7/dist-packages (from torch-geometric-temporal) (4.4.2)\n",
            "Requirement already satisfied: torch in /usr/local/lib/python3.7/dist-packages (from torch-geometric-temporal) (1.11.0+cu113)\n",
            "Requirement already satisfied: cython in /usr/local/lib/python3.7/dist-packages (from torch-geometric-temporal) (0.29.28)\n",
            "Requirement already satisfied: pandas<=1.3.5 in /usr/local/lib/python3.7/dist-packages (from torch-geometric-temporal) (1.3.5)\n",
            "Requirement already satisfied: torch_sparse in /usr/local/lib/python3.7/dist-packages (from torch-geometric-temporal) (0.6.13)\n",
            "Requirement already satisfied: torch_scatter in /usr/local/lib/python3.7/dist-packages (from torch-geometric-temporal) (2.0.9)\n",
            "Requirement already satisfied: torch_geometric in /usr/local/lib/python3.7/dist-packages (from torch-geometric-temporal) (2.0.4)\n",
            "Requirement already satisfied: numpy in /usr/local/lib/python3.7/dist-packages (from torch-geometric-temporal) (1.21.6)\n",
            "Requirement already satisfied: scipy in /usr/local/lib/python3.7/dist-packages (from torch-geometric-temporal) (1.4.1)\n",
            "Requirement already satisfied: tqdm in /usr/local/lib/python3.7/dist-packages (from torch-geometric-temporal) (4.64.0)\n",
            "Requirement already satisfied: six in /usr/local/lib/python3.7/dist-packages (from torch-geometric-temporal) (1.15.0)\n",
            "Requirement already satisfied: networkx in /usr/local/lib/python3.7/dist-packages (from torch-geometric-temporal) (2.6.3)\n",
            "Requirement already satisfied: pytz>=2017.3 in /usr/local/lib/python3.7/dist-packages (from pandas<=1.3.5->torch-geometric-temporal) (2022.1)\n",
            "Requirement already satisfied: python-dateutil>=2.7.3 in /usr/local/lib/python3.7/dist-packages (from pandas<=1.3.5->torch-geometric-temporal) (2.8.2)\n",
            "Requirement already satisfied: typing-extensions in /usr/local/lib/python3.7/dist-packages (from torch->torch-geometric-temporal) (4.2.0)\n",
            "Requirement already satisfied: pyparsing in /usr/local/lib/python3.7/dist-packages (from torch_geometric->torch-geometric-temporal) (3.0.8)\n",
            "Requirement already satisfied: scikit-learn in /usr/local/lib/python3.7/dist-packages (from torch_geometric->torch-geometric-temporal) (1.0.2)\n",
            "Requirement already satisfied: jinja2 in /usr/local/lib/python3.7/dist-packages (from torch_geometric->torch-geometric-temporal) (2.11.3)\n",
            "Requirement already satisfied: requests in /usr/local/lib/python3.7/dist-packages (from torch_geometric->torch-geometric-temporal) (2.23.0)\n",
            "Requirement already satisfied: MarkupSafe>=0.23 in /usr/local/lib/python3.7/dist-packages (from jinja2->torch_geometric->torch-geometric-temporal) (2.0.1)\n",
            "Requirement already satisfied: urllib3!=1.25.0,!=1.25.1,<1.26,>=1.21.1 in /usr/local/lib/python3.7/dist-packages (from requests->torch_geometric->torch-geometric-temporal) (1.24.3)\n",
            "Requirement already satisfied: idna<3,>=2.5 in /usr/local/lib/python3.7/dist-packages (from requests->torch_geometric->torch-geometric-temporal) (2.10)\n",
            "Requirement already satisfied: certifi>=2017.4.17 in /usr/local/lib/python3.7/dist-packages (from requests->torch_geometric->torch-geometric-temporal) (2021.10.8)\n",
            "Requirement already satisfied: chardet<4,>=3.0.2 in /usr/local/lib/python3.7/dist-packages (from requests->torch_geometric->torch-geometric-temporal) (3.0.4)\n",
            "Requirement already satisfied: threadpoolctl>=2.0.0 in /usr/local/lib/python3.7/dist-packages (from scikit-learn->torch_geometric->torch-geometric-temporal) (3.1.0)\n",
            "Requirement already satisfied: joblib>=0.11 in /usr/local/lib/python3.7/dist-packages (from scikit-learn->torch_geometric->torch-geometric-temporal) (1.1.0)\n",
            "Building wheels for collected packages: torch-geometric-temporal\n",
            "  Building wheel for torch-geometric-temporal (setup.py) ... \u001b[?25l\u001b[?25hdone\n",
            "  Created wheel for torch-geometric-temporal: filename=torch_geometric_temporal-0.52.0-py3-none-any.whl size=86194 sha256=99186ca73fb4bc32e07b24e99ca2d9fb5724b72a167b63c9cc8d08283fbdef67\n",
            "  Stored in directory: /root/.cache/pip/wheels/eb/f1/e5/dd02c6d1e5f00f907f5e4894c60c5a21b774db1ed7464d0c23\n",
            "Successfully built torch-geometric-temporal\n",
            "Installing collected packages: torch-geometric-temporal\n",
            "Successfully installed torch-geometric-temporal-0.52.0\n",
            "cuda\n"
          ]
        }
      ],
      "source": [
        "##importing necessary liabrararies\n",
        "import numpy as np\n",
        "import pandas as pd\n",
        "import matplotlib.pyplot as plt\n",
        "import seaborn as sns\n",
        "import numpy as np\n",
        "import tensorflow as tf\n",
        "import torch\n",
        "torch.Tensor(1)\n",
        "\n",
        "import torch\n",
        "import torch.nn.functional as F\n",
        "print(torch.__version__)\n",
        "!pip install torch-scatter torch-sparse torch-geometric -f https://data.pyg.org/whl/torch-{torch.__version__}.html\n",
        "!pip install torch-geometric-temporal\n",
        "from torch_geometric.nn import GCNConv\n",
        "from torch_geometric_temporal.nn.recurrent import A3TGCN2\n",
        "# GPU support\n",
        "DEVICE = torch.device('cuda') # cuda\n",
        "print(DEVICE)\n",
        "shuffle=True\n",
        "batch_size = 32"
      ]
    },
    {
      "cell_type": "markdown",
      "source": [
        "#PEMS-08:\n",
        "\n",
        "170 detectors\n",
        "July to Augest in 2016\n",
        "3 features: flow, occupy, speed."
      ],
      "metadata": {
        "id": "XPAhaknP27jS"
      }
    },
    {
      "cell_type": "code",
      "source": [
        "#import our data (PEMS08)\n",
        "\n",
        "url_edge_info = \"https://raw.githubusercontent.com/wanhuaiyu/ASTGCN/master/data/PEMS08/distance.csv\"\n",
        "url_node_features = \"https://github.com/wanhuaiyu/ASTGCN/blob/master/data/PEMS08/pems08.npz\"\n",
        "edge_info = pd.read_csv(url_edge_info)\n",
        "node_features = np.load(\"/content/drive/MyDrive/traffic pred.by gnn/data.npy\")"
      ],
      "metadata": {
        "id": "acFzAgLyuQFI"
      },
      "execution_count": null,
      "outputs": []
    },
    {
      "cell_type": "markdown",
      "source": [
        "**edge_info**: This csv  file contains data of **distance between two nodes** and by using this information we can construct an **adjecency matrix** and with the help of these adjecency matrix we can **plot the graph.** "
      ],
      "metadata": {
        "id": "Gnh0xf_a0cOL"
      }
    },
    {
      "cell_type": "code",
      "source": [
        "from google.colab import drive\n",
        "drive.mount('/content/drive')"
      ],
      "metadata": {
        "colab": {
          "base_uri": "https://localhost:8080/"
        },
        "id": "yMz5lTm858Wj",
        "outputId": "3136f4ce-a218-4d85-de42-21418595e3d1"
      },
      "execution_count": null,
      "outputs": [
        {
          "output_type": "stream",
          "name": "stdout",
          "text": [
            "Drive already mounted at /content/drive; to attempt to forcibly remount, call drive.mount(\"/content/drive\", force_remount=True).\n"
          ]
        }
      ]
    },
    {
      "cell_type": "code",
      "source": [
        "edge_info "
      ],
      "metadata": {
        "colab": {
          "base_uri": "https://localhost:8080/",
          "height": 423
        },
        "id": "AMisnjidEVgx",
        "outputId": "74e856b6-d97c-4e12-d4de-02f7d84f1615"
      },
      "execution_count": null,
      "outputs": [
        {
          "output_type": "execute_result",
          "data": {
            "text/plain": [
              "     from   to   cost\n",
              "0       9  153  310.6\n",
              "1     153   62  330.9\n",
              "2      62  111  332.9\n",
              "3     111   11  324.2\n",
              "4      11   28  336.0\n",
              "..    ...  ...    ...\n",
              "290   154    5  166.3\n",
              "291    78  107  143.9\n",
              "292   107   46  236.3\n",
              "293   118  145  250.6\n",
              "294   145   96   85.1\n",
              "\n",
              "[295 rows x 3 columns]"
            ],
            "text/html": [
              "\n",
              "  <div id=\"df-7d96669f-bf86-4e50-b5bc-d15833cc4eb0\">\n",
              "    <div class=\"colab-df-container\">\n",
              "      <div>\n",
              "<style scoped>\n",
              "    .dataframe tbody tr th:only-of-type {\n",
              "        vertical-align: middle;\n",
              "    }\n",
              "\n",
              "    .dataframe tbody tr th {\n",
              "        vertical-align: top;\n",
              "    }\n",
              "\n",
              "    .dataframe thead th {\n",
              "        text-align: right;\n",
              "    }\n",
              "</style>\n",
              "<table border=\"1\" class=\"dataframe\">\n",
              "  <thead>\n",
              "    <tr style=\"text-align: right;\">\n",
              "      <th></th>\n",
              "      <th>from</th>\n",
              "      <th>to</th>\n",
              "      <th>cost</th>\n",
              "    </tr>\n",
              "  </thead>\n",
              "  <tbody>\n",
              "    <tr>\n",
              "      <th>0</th>\n",
              "      <td>9</td>\n",
              "      <td>153</td>\n",
              "      <td>310.6</td>\n",
              "    </tr>\n",
              "    <tr>\n",
              "      <th>1</th>\n",
              "      <td>153</td>\n",
              "      <td>62</td>\n",
              "      <td>330.9</td>\n",
              "    </tr>\n",
              "    <tr>\n",
              "      <th>2</th>\n",
              "      <td>62</td>\n",
              "      <td>111</td>\n",
              "      <td>332.9</td>\n",
              "    </tr>\n",
              "    <tr>\n",
              "      <th>3</th>\n",
              "      <td>111</td>\n",
              "      <td>11</td>\n",
              "      <td>324.2</td>\n",
              "    </tr>\n",
              "    <tr>\n",
              "      <th>4</th>\n",
              "      <td>11</td>\n",
              "      <td>28</td>\n",
              "      <td>336.0</td>\n",
              "    </tr>\n",
              "    <tr>\n",
              "      <th>...</th>\n",
              "      <td>...</td>\n",
              "      <td>...</td>\n",
              "      <td>...</td>\n",
              "    </tr>\n",
              "    <tr>\n",
              "      <th>290</th>\n",
              "      <td>154</td>\n",
              "      <td>5</td>\n",
              "      <td>166.3</td>\n",
              "    </tr>\n",
              "    <tr>\n",
              "      <th>291</th>\n",
              "      <td>78</td>\n",
              "      <td>107</td>\n",
              "      <td>143.9</td>\n",
              "    </tr>\n",
              "    <tr>\n",
              "      <th>292</th>\n",
              "      <td>107</td>\n",
              "      <td>46</td>\n",
              "      <td>236.3</td>\n",
              "    </tr>\n",
              "    <tr>\n",
              "      <th>293</th>\n",
              "      <td>118</td>\n",
              "      <td>145</td>\n",
              "      <td>250.6</td>\n",
              "    </tr>\n",
              "    <tr>\n",
              "      <th>294</th>\n",
              "      <td>145</td>\n",
              "      <td>96</td>\n",
              "      <td>85.1</td>\n",
              "    </tr>\n",
              "  </tbody>\n",
              "</table>\n",
              "<p>295 rows × 3 columns</p>\n",
              "</div>\n",
              "      <button class=\"colab-df-convert\" onclick=\"convertToInteractive('df-7d96669f-bf86-4e50-b5bc-d15833cc4eb0')\"\n",
              "              title=\"Convert this dataframe to an interactive table.\"\n",
              "              style=\"display:none;\">\n",
              "        \n",
              "  <svg xmlns=\"http://www.w3.org/2000/svg\" height=\"24px\"viewBox=\"0 0 24 24\"\n",
              "       width=\"24px\">\n",
              "    <path d=\"M0 0h24v24H0V0z\" fill=\"none\"/>\n",
              "    <path d=\"M18.56 5.44l.94 2.06.94-2.06 2.06-.94-2.06-.94-.94-2.06-.94 2.06-2.06.94zm-11 1L8.5 8.5l.94-2.06 2.06-.94-2.06-.94L8.5 2.5l-.94 2.06-2.06.94zm10 10l.94 2.06.94-2.06 2.06-.94-2.06-.94-.94-2.06-.94 2.06-2.06.94z\"/><path d=\"M17.41 7.96l-1.37-1.37c-.4-.4-.92-.59-1.43-.59-.52 0-1.04.2-1.43.59L10.3 9.45l-7.72 7.72c-.78.78-.78 2.05 0 2.83L4 21.41c.39.39.9.59 1.41.59.51 0 1.02-.2 1.41-.59l7.78-7.78 2.81-2.81c.8-.78.8-2.07 0-2.86zM5.41 20L4 18.59l7.72-7.72 1.47 1.35L5.41 20z\"/>\n",
              "  </svg>\n",
              "      </button>\n",
              "      \n",
              "  <style>\n",
              "    .colab-df-container {\n",
              "      display:flex;\n",
              "      flex-wrap:wrap;\n",
              "      gap: 12px;\n",
              "    }\n",
              "\n",
              "    .colab-df-convert {\n",
              "      background-color: #E8F0FE;\n",
              "      border: none;\n",
              "      border-radius: 50%;\n",
              "      cursor: pointer;\n",
              "      display: none;\n",
              "      fill: #1967D2;\n",
              "      height: 32px;\n",
              "      padding: 0 0 0 0;\n",
              "      width: 32px;\n",
              "    }\n",
              "\n",
              "    .colab-df-convert:hover {\n",
              "      background-color: #E2EBFA;\n",
              "      box-shadow: 0px 1px 2px rgba(60, 64, 67, 0.3), 0px 1px 3px 1px rgba(60, 64, 67, 0.15);\n",
              "      fill: #174EA6;\n",
              "    }\n",
              "\n",
              "    [theme=dark] .colab-df-convert {\n",
              "      background-color: #3B4455;\n",
              "      fill: #D2E3FC;\n",
              "    }\n",
              "\n",
              "    [theme=dark] .colab-df-convert:hover {\n",
              "      background-color: #434B5C;\n",
              "      box-shadow: 0px 1px 3px 1px rgba(0, 0, 0, 0.15);\n",
              "      filter: drop-shadow(0px 1px 2px rgba(0, 0, 0, 0.3));\n",
              "      fill: #FFFFFF;\n",
              "    }\n",
              "  </style>\n",
              "\n",
              "      <script>\n",
              "        const buttonEl =\n",
              "          document.querySelector('#df-7d96669f-bf86-4e50-b5bc-d15833cc4eb0 button.colab-df-convert');\n",
              "        buttonEl.style.display =\n",
              "          google.colab.kernel.accessAllowed ? 'block' : 'none';\n",
              "\n",
              "        async function convertToInteractive(key) {\n",
              "          const element = document.querySelector('#df-7d96669f-bf86-4e50-b5bc-d15833cc4eb0');\n",
              "          const dataTable =\n",
              "            await google.colab.kernel.invokeFunction('convertToInteractive',\n",
              "                                                     [key], {});\n",
              "          if (!dataTable) return;\n",
              "\n",
              "          const docLinkHtml = 'Like what you see? Visit the ' +\n",
              "            '<a target=\"_blank\" href=https://colab.research.google.com/notebooks/data_table.ipynb>data table notebook</a>'\n",
              "            + ' to learn more about interactive tables.';\n",
              "          element.innerHTML = '';\n",
              "          dataTable['output_type'] = 'display_data';\n",
              "          await google.colab.output.renderOutput(dataTable, element);\n",
              "          const docLink = document.createElement('div');\n",
              "          docLink.innerHTML = docLinkHtml;\n",
              "          element.appendChild(docLink);\n",
              "        }\n",
              "      </script>\n",
              "    </div>\n",
              "  </div>\n",
              "  "
            ]
          },
          "metadata": {},
          "execution_count": 7
        }
      ]
    },
    {
      "cell_type": "code",
      "source": [
        "node_features ##this data fie contain information about features of each nodes present in our data in the shape(17856,170,3):(number of data points,number of sensors,number of features)"
      ],
      "metadata": {
        "id": "pq5fZGRUEX4B",
        "colab": {
          "base_uri": "https://localhost:8080/"
        },
        "outputId": "89fc3014-40e2-4f2a-8385-894464f31e48"
      },
      "execution_count": null,
      "outputs": [
        {
          "output_type": "execute_result",
          "data": {
            "text/plain": [
              "array([[[1.330e+02, 6.030e-02, 6.580e+01],\n",
              "        [2.100e+02, 5.890e-02, 6.960e+01],\n",
              "        [1.240e+02, 3.580e-02, 6.580e+01],\n",
              "        ...,\n",
              "        [7.400e+01, 2.131e-01, 6.530e+01],\n",
              "        [9.400e+01, 2.260e-02, 6.800e+01],\n",
              "        [6.000e+00, 3.100e-03, 6.500e+01]],\n",
              "\n",
              "       [[1.140e+02, 5.320e-02, 6.690e+01],\n",
              "        [1.850e+02, 5.500e-02, 6.850e+01],\n",
              "        [1.190e+02, 3.390e-02, 6.500e+01],\n",
              "        ...,\n",
              "        [7.300e+01, 1.469e-01, 3.720e+01],\n",
              "        [8.400e+01, 1.890e-02, 6.870e+01],\n",
              "        [4.000e+00, 1.800e-03, 6.500e+01]],\n",
              "\n",
              "       [[1.400e+02, 6.220e-02, 6.680e+01],\n",
              "        [1.710e+02, 4.660e-02, 6.990e+01],\n",
              "        [1.070e+02, 3.360e-02, 6.380e+01],\n",
              "        ...,\n",
              "        [7.000e+01, 5.860e-02, 3.400e+01],\n",
              "        [8.200e+01, 2.200e-02, 6.700e+01],\n",
              "        [4.000e+00, 2.100e-03, 6.490e+01]],\n",
              "\n",
              "       ...,\n",
              "\n",
              "       [[1.200e+02, 5.810e-02, 6.330e+01],\n",
              "        [1.760e+02, 5.290e-02, 6.680e+01],\n",
              "        [1.190e+02, 5.180e-02, 5.610e+01],\n",
              "        ...,\n",
              "        [4.700e+01, 1.551e-01, 3.220e+01],\n",
              "        [9.100e+01, 2.290e-02, 6.640e+01],\n",
              "        [3.000e+00, 1.400e-03, 6.530e+01]],\n",
              "\n",
              "       [[1.020e+02, 5.790e-02, 6.140e+01],\n",
              "        [1.650e+02, 4.920e-02, 6.720e+01],\n",
              "        [1.330e+02, 5.070e-02, 5.890e+01],\n",
              "        ...,\n",
              "        [9.700e+01, 1.265e-01, 3.080e+01],\n",
              "        [8.500e+01, 2.080e-02, 6.750e+01],\n",
              "        [2.000e+00, 1.000e-03, 6.520e+01]],\n",
              "\n",
              "       [[1.020e+02, 5.650e-02, 6.170e+01],\n",
              "        [1.660e+02, 5.020e-02, 6.760e+01],\n",
              "        [1.330e+02, 4.640e-02, 5.630e+01],\n",
              "        ...,\n",
              "        [8.300e+01, 2.730e-02, 5.910e+01],\n",
              "        [7.000e+01, 1.880e-02, 6.660e+01],\n",
              "        [6.000e+00, 2.600e-03, 6.520e+01]]])"
            ]
          },
          "metadata": {},
          "execution_count": 8
        }
      ]
    },
    {
      "cell_type": "code",
      "source": [
        "A = np.zeros((170, 170),dtype=np.float32) ##initiaaly creating (170*170) matrix with all values zero\n",
        "#assigning value 1 to the matrix elements which having connection between them(which gives us adjecency matrix)\n",
        "distanceA = np.zeros((170, 170), dtype=np.float32) \n",
        "for index, row in edge_info.iterrows():\n",
        "    i = int(row[\"from\"])\n",
        "    j = int(row['to'])\n",
        "    distance = row['cost']\n",
        "    A[i, j] = 1\n",
        "    distanceA[i][j] = distance"
      ],
      "metadata": {
        "id": "GZxhD2qYxdYe"
      },
      "execution_count": null,
      "outputs": []
    },
    {
      "cell_type": "code",
      "source": [
        "node_features.shape"
      ],
      "metadata": {
        "colab": {
          "base_uri": "https://localhost:8080/"
        },
        "id": "RVs3pNMI5gTF",
        "outputId": "6fedd8b6-8846-4fee-b6d1-f52c20d1b19c"
      },
      "execution_count": null,
      "outputs": [
        {
          "output_type": "execute_result",
          "data": {
            "text/plain": [
              "(17856, 170, 3)"
            ]
          },
          "metadata": {},
          "execution_count": 10
        }
      ]
    },
    {
      "cell_type": "code",
      "source": [
        "#ploting graph o the basis of adjecency matrix created in previous step.\n",
        "import matplotlib.pyplot as plt\n",
        "import networkx as nx\n",
        "\n",
        "def show_graph_with_labels(A):\n",
        "    rows, cols = np.where(A == 1)\n",
        "    edges = zip(rows.tolist(), cols.tolist())\n",
        "    gr = nx.Graph()\n",
        "    gr.add_edges_from(edges)\n",
        "    nx.draw(gr, node_size=170)\n",
        "    plt.show()\n",
        "\n",
        "show_graph_with_labels(A)\n"
      ],
      "metadata": {
        "colab": {
          "base_uri": "https://localhost:8080/",
          "height": 319
        },
        "id": "wj1YnTieJ869",
        "outputId": "fc60547a-6ef6-4278-e2fc-9bb976178c17"
      },
      "execution_count": null,
      "outputs": [
        {
          "output_type": "display_data",
          "data": {
            "text/plain": [
              "<Figure size 432x288 with 1 Axes>"
            ],
            "image/png": "[encoded data removed]"
          },
          "metadata": {}
        }
      ]
    },
    {
      "cell_type": "code",
      "source": [
        "from torch_geometric_temporal import StaticGraphTemporalSignal\n",
        "#import StaticGraphTemporalSignal\n",
        "\n",
        "class METRLADatasetLoader(object):\n",
        "    def _read_web_data(self):\n",
        "        url = \"https://graphmining.ai/temporal_datasets/METR-LA.zip\"\n",
        "        url_edge_info = \"https://raw.githubusercontent.com/wanhuaiyu/ASTGCN/master/data/PEMS08/distance.csv\"\n",
        "        url_node_features = \"https://github.com/wanhuaiyu/ASTGCN/blob/master/data/PEMS08/pems08.npz\"\n",
        "        edge_info = pd.read_csv(url_edge_info)\n",
        "        X = np.load(\"data.npy\").transpose(1, 2, 0)\n",
        "        A = np.zeros((170, 170),dtype=np.float32)\n",
        "        distanceA = np.zeros((170, 170), dtype=np.float32)\n",
        "        for index, row in edge_info.iterrows():\n",
        "            i = int(row[\"from\"])\n",
        "            j = int(row['to'])\n",
        "            distance = row['cost']\n",
        "            A[i, j] = 1\n",
        "            distanceA[i][j] = distance\n",
        "        X = X.astype(np.float32)\n",
        "\n",
        "        # Normalise as in DCRNN paper (via Z-Score Method)\n",
        "        means = np.mean(X, axis=(0, 2))\n",
        "        X = X - means.reshape(1, -1, 1)\n",
        "        stds = np.std(X, axis=(0, 2))\n",
        "        X = X / stds.reshape(1, -1, 1)\n",
        "\n",
        "        self.A = torch.from_numpy(A)\n",
        "        self.X = torch.from_numpy(X)\n",
        "\n",
        "    def _get_edges_and_weights(self):\n",
        "        edge_indices, values = dense_to_sparse(self.A)\n",
        "        edge_indices = edge_indices.numpy()\n",
        "        values = values.numpy()\n",
        "        self.edges = edge_indices\n",
        "        self.edge_weights = values\n",
        "\n",
        "    def _generate_task(self, num_timesteps_in: int = 12, num_timesteps_out: int = 12):\n",
        "        indices = [\n",
        "            (i, i + (num_timesteps_in + num_timesteps_out))\n",
        "            for i in range(self.X.shape[2] - (num_timesteps_in + num_timesteps_out) + 1)\n",
        "        ]\n",
        "\n",
        "        # Generate observations\n",
        "        features, target = [], []\n",
        "        for i, j in indices:\n",
        "            features.append((self.X[:, :, i : i + num_timesteps_in]).numpy())\n",
        "            target.append((self.X[:, 0, i + num_timesteps_in : j]).numpy())\n",
        "\n",
        "        self.features = features\n",
        "        self.targets = target\n",
        "    def get_dataset(\n",
        "        self, num_timesteps_in: int = 12, num_timesteps_out: int = 12\n",
        "    ) -> StaticGraphTemporalSignal:\n",
        "        \"\"\"Returns data iterator for METR-LA dataset as an instance of the\n",
        "        static graph temporal signal class.\n",
        "\n",
        "        Return types:\n",
        "            * **dataset** *(StaticGraphTemporalSignal)* - The METR-LA traffic\n",
        "                forecasting dataset.\n",
        "        \"\"\"\n",
        "        self._get_edges_and_weights()\n",
        "        self._generate_task(num_timesteps_in, num_timesteps_out)\n",
        "        dataset = StaticGraphTemporalSignal(\n",
        "            self.edges, self.edge_weights, self.features, self.targets\n",
        "        )\n",
        "        return dataset"
      ],
      "metadata": {
        "id": "z20Mn1Kg4ymB"
      },
      "execution_count": null,
      "outputs": []
    },
    {
      "cell_type": "code",
      "source": [
        "from torch_geometric_temporal.dataset import METRLADatasetLoader\n",
        "loader = METRLADatasetLoader()\n",
        "dataset = loader.get_dataset(num_timesteps_in=12, num_timesteps_out=12)\n",
        "print(\"Dataset type:  \", dataset)\n",
        "print(\"Number of samples / sequences: \",  len(set(dataset)))"
      ],
      "metadata": {
        "colab": {
          "base_uri": "https://localhost:8080/"
        },
        "id": "KZI1T931hu-J",
        "outputId": "76b3c492-eb05-499c-9977-3337e1221323"
      },
      "execution_count": null,
      "outputs": [
        {
          "output_type": "stream",
          "name": "stdout",
          "text": [
            "Dataset type:   <torch_geometric_temporal.signal.static_graph_temporal_signal.StaticGraphTemporalSignal object at 0x7f90510977d0>\n",
            "Number of samples / sequences:  34249\n"
          ]
        }
      ]
    },
    {
      "cell_type": "code",
      "source": [
        "from torch_geometric_temporal.signal import temporal_signal_split\n",
        "train_dataset, test_dataset = temporal_signal_split(dataset, train_ratio=0.8)"
      ],
      "metadata": {
        "id": "QomMKdwSF0EZ"
      },
      "execution_count": null,
      "outputs": []
    },
    {
      "cell_type": "code",
      "source": [
        "train_input = np.array(train_dataset.features)\n",
        "train_target = np.array(train_dataset.targets)\n",
        "train_input_tensor = torch.from_numpy(train_input)\n",
        "train_target_tensor = torch.from_numpy(train_target)\n",
        "train_dataset_new = torch.utils.data.TensorDataset(train_input_tensor, train_target_tensor)\n",
        "train_loader = torch.utils.data.DataLoader(train_dataset_new, batch_size=batch_size, shuffle=shuffle,drop_last=True)"
      ],
      "metadata": {
        "id": "DWW8vGnNK-jT"
      },
      "execution_count": null,
      "outputs": []
    },
    {
      "cell_type": "code",
      "source": [
        "test_input = np.array(test_dataset.features)\n",
        "test_target = np.array(test_dataset.targets)\n",
        "test_input_tensor = torch.from_numpy(test_input)\n",
        "test_target_tensor = torch.from_numpy(test_target)\n",
        "test_dataset_new = torch.utils.data.TensorDataset(test_input_tensor, test_target_tensor)\n",
        "test_loader = torch.utils.data.DataLoader(test_dataset_new, batch_size=batch_size, shuffle=shuffle,drop_last=True)"
      ],
      "metadata": {
        "id": "5pqyneRxLQj7"
      },
      "execution_count": null,
      "outputs": []
    },
    {
      "cell_type": "code",
      "source": [
        "class TemporalGNN(torch.nn.Module):\n",
        "    def __init__(self, node_features, periods, batch_size):\n",
        "        super(TemporalGNN, self).__init__()\n",
        "        # Attention Temporal Graph Convolutional Cell\n",
        "        self.tgnn = A3TGCN2(in_channels=node_features,  out_channels=32, periods=periods,batch_size=batch_size) # node_features=2, periods=12\n",
        "        # Equals single-shot prediction\n",
        "        self.linear = torch.nn.Linear(32, periods)\n",
        "\n",
        "    def forward(self, x, edge_index):\n",
        "        \"\"\"\n",
        "        x = Node features for T time steps\n",
        "        edge_index = Graph edge indices\n",
        "        \"\"\"\n",
        "        h = self.tgnn(x, edge_index) # x [b, 207, 2, 12]  returns h [b, 207, 12]\n",
        "        h = F.relu(h) \n",
        "        h = self.linear(h)\n",
        "        return h\n",
        "\n",
        "TemporalGNN(node_features=2, periods=12, batch_size=2)"
      ],
      "metadata": {
        "colab": {
          "base_uri": "https://localhost:8080/"
        },
        "id": "zdMtQHSUlOvs",
        "outputId": "ef2950a2-14cc-4a4a-ab53-18b46327fe6f"
      },
      "execution_count": null,
      "outputs": [
        {
          "output_type": "execute_result",
          "data": {
            "text/plain": [
              "TemporalGNN(\n",
              "  (tgnn): A3TGCN2(\n",
              "    (_base_tgcn): TGCN2(\n",
              "      (conv_z): GCNConv(2, 32)\n",
              "      (linear_z): Linear(in_features=64, out_features=32, bias=True)\n",
              "      (conv_r): GCNConv(2, 32)\n",
              "      (linear_r): Linear(in_features=64, out_features=32, bias=True)\n",
              "      (conv_h): GCNConv(2, 32)\n",
              "      (linear_h): Linear(in_features=64, out_features=32, bias=True)\n",
              "    )\n",
              "  )\n",
              "  (linear): Linear(in_features=32, out_features=12, bias=True)\n",
              ")"
            ]
          },
          "metadata": {},
          "execution_count": 31
        }
      ]
    },
    {
      "cell_type": "code",
      "source": [
        "model = TemporalGNN(node_features=2, periods=12, batch_size=batch_size)\n",
        "optimizer = torch.optim.Adam(model.parameters(), lr=0.001)\n",
        "loss_fn = torch.nn.MSELoss()\n",
        "\n",
        "\n",
        "print('Net\\'s state_dict:')\n",
        "total_param = 0\n",
        "for param_tensor in model.state_dict():\n",
        "    print(param_tensor, '\\t', model.state_dict()[param_tensor].size())\n",
        "    total_param += np.prod(model.state_dict()[param_tensor].size())\n",
        "print('Net\\'s total params:', total_param)\n",
        "#--------------------------------------------------\n",
        "print('Optimizer\\'s state_dict:')  # If you notice here the Attention is a trainable parameter\n",
        "for var_name in optimizer.state_dict():\n",
        "    print(var_name, '\\t', optimizer.state_dict()[var_name])"
      ],
      "metadata": {
        "colab": {
          "base_uri": "https://localhost:8080/"
        },
        "id": "Tqp8dCN_3G_m",
        "outputId": "80ae4093-e502-401f-b2dc-f496eda06662"
      },
      "execution_count": null,
      "outputs": [
        {
          "output_type": "stream",
          "name": "stdout",
          "text": [
            "Net's state_dict:\n",
            "tgnn._attention \t torch.Size([12])\n",
            "tgnn._base_tgcn.conv_z.bias \t torch.Size([32])\n",
            "tgnn._base_tgcn.conv_z.lin.weight \t torch.Size([32, 2])\n",
            "tgnn._base_tgcn.linear_z.weight \t torch.Size([32, 64])\n",
            "tgnn._base_tgcn.linear_z.bias \t torch.Size([32])\n",
            "tgnn._base_tgcn.conv_r.bias \t torch.Size([32])\n",
            "tgnn._base_tgcn.conv_r.lin.weight \t torch.Size([32, 2])\n",
            "tgnn._base_tgcn.linear_r.weight \t torch.Size([32, 64])\n",
            "tgnn._base_tgcn.linear_r.bias \t torch.Size([32])\n",
            "tgnn._base_tgcn.conv_h.bias \t torch.Size([32])\n",
            "tgnn._base_tgcn.conv_h.lin.weight \t torch.Size([32, 2])\n",
            "tgnn._base_tgcn.linear_h.weight \t torch.Size([32, 64])\n",
            "tgnn._base_tgcn.linear_h.bias \t torch.Size([32])\n",
            "linear.weight \t torch.Size([12, 32])\n",
            "linear.bias \t torch.Size([12])\n",
            "Net's total params: 6936\n",
            "Optimizer's state_dict:\n",
            "state \t {}\n",
            "param_groups \t [{'lr': 0.001, 'betas': (0.9, 0.999), 'eps': 1e-08, 'weight_decay': 0, 'amsgrad': False, 'maximize': False, 'params': [0, 1, 2, 3, 4, 5, 6, 7, 8, 9, 10, 11, 12, 13, 14]}]\n"
          ]
        }
      ]
    },
    {
      "cell_type": "code",
      "source": [
        "for snapshot in train_dataset:\n",
        "    static_edge_index = snapshot.edge_index\n",
        "    break;\n",
        "\n",
        "\n",
        "\n",
        "# Training the model \n",
        "model.train()\n",
        "\n",
        "for epoch in range(5):\n",
        "    step = 0\n",
        "    loss_list = []\n",
        "    for encoder_inputs, labels in train_loader:\n",
        "        y_hat = model(encoder_inputs, static_edge_index)         # Get model predictions\n",
        "        loss = loss_fn(y_hat, labels) # Mean squared error #loss = torch.mean((y_hat-labels)**2)  sqrt to change it to rmse\n",
        "        loss.backward()\n",
        "        optimizer.step()\n",
        "        optimizer.zero_grad()\n",
        "        step= step+ 1\n",
        "        loss_list.append(loss.item())\n",
        "        if step % 100 == 0 :\n",
        "            print(sum(loss_list)/len(loss_list))\n",
        "    print(\"Epoch {} train RMSE: {:.4f}\".format(epoch, sum(loss_list)/len(loss_list)))"
      ],
      "metadata": {
        "colab": {
          "base_uri": "https://localhost:8080/"
        },
        "id": "TH4Tg5zN3K1O",
        "outputId": "2e9b7884-e2ba-4f21-8ce4-f2bf267dca0c"
      },
      "execution_count": null,
      "outputs": [
        {
          "output_type": "stream",
          "name": "stdout",
          "text": [
            "0.45059197962284087\n",
            "0.4524831064045429\n",
            "0.4526292758186658\n",
            "0.45173954881727696\n",
            "0.4537832381129265\n",
            "0.45598050110042093\n",
            "0.45553136499864716\n",
            "0.4538990800641477\n",
            "Epoch 0 train RMSE: 0.4538\n",
            "0.45214205533266066\n",
            "0.45130804270505903\n",
            "0.44528337319691974\n",
            "0.4507268238812685\n",
            "0.45258408296108243\n",
            "0.4503465539713701\n"
          ]
        }
      ]
    },
    {
      "cell_type": "code",
      "source": [
        "## Evaluation\n",
        "\n",
        "#- Lets get some sample predictions for a specific horizon (e.g. 288/12 = 24 hours)\n",
        "#- The model always gets one hour and needs to predict the next hour\n",
        "\n",
        "model.eval()\n",
        "step = 0\n",
        "# Store for analysis\n",
        "total_loss = []\n",
        "for encoder_inputs, labels in test_loader:\n",
        "    # Get model predictions\n",
        "    y_hat = model(encoder_inputs, static_edge_index)\n",
        "    # Mean squared error\n",
        "    loss = loss_fn(y_hat, labels)\n",
        "    total_loss.append(loss.item())\n",
        "    # Store for analysis below\n",
        "    #test_labels.append(labels)\n",
        "    #predictions.append(y_hat)\n",
        "    \n",
        "\n",
        "print(\"Test MSE: {:.4f}\".format(sum(total_loss)/len(total_loss)))\n"
      ],
      "metadata": {
        "colab": {
          "base_uri": "https://localhost:8080/"
        },
        "id": "7ndYRRlV3Nli",
        "outputId": "1647fff2-691c-45c5-d2d8-bd80059fc807"
      },
      "execution_count": null,
      "outputs": [
        {
          "output_type": "stream",
          "name": "stdout",
          "text": [
            "Test MSE: 0.5788\n"
          ]
        }
      ]
    },
    {
      "cell_type": "code",
      "source": [
        "### Visualization\n",
        "\n",
        "#- The further away the point in time is, the worse the predictions get\n",
        "#- Predictions shape: [num_data_points, num_sensors, num_timesteps]\n",
        "\n",
        "\n",
        "sensor = 123\n",
        "timestep = 11 \n",
        "preds = np.asarray([pred[sensor][timestep].detach().cpu().numpy() for pred in y_hat])\n",
        "labs  = np.asarray([label[sensor][timestep].cpu().numpy() for label in labels])\n",
        "print(\"Data points:,\", preds.shape)\n",
        "\n",
        "plt.figure(figsize=(20,5))\n",
        "sns.lineplot(data=preds, label=\"pred\")\n",
        "sns.lineplot(data=labs, label=\"true\")"
      ],
      "metadata": {
        "colab": {
          "base_uri": "https://localhost:8080/",
          "height": 355
        },
        "id": "rM0tTA9G3ONP",
        "outputId": "a4e10358-8911-4a4f-d353-a1aa3bf5e6c4"
      },
      "execution_count": null,
      "outputs": [
        {
          "output_type": "stream",
          "name": "stdout",
          "text": [
            "Data points:, (32,)\n"
          ]
        },
        {
          "output_type": "execute_result",
          "data": {
            "text/plain": [
              "<matplotlib.axes._subplots.AxesSubplot at 0x7fa1ba9c7050>"
            ]
          },
          "metadata": {},
          "execution_count": 35
        },
        {
          "output_type": "display_data",
          "data": {
            "text/plain": [
              "<Figure size 1440x360 with 1 Axes>"
            ],
            "image/png": "[encoded data removed]"
          },
          "metadata": {
            "needs_background": "light"
          }
        }
      ]
    },
    {
      "cell_type": "code",
      "source": [],
      "metadata": {
        "id": "lpND8Op2DKM-"
      },
      "execution_count": null,
      "outputs": []
    }
  ]
}